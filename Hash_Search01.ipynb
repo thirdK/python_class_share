{
 "cells": [
  {
   "cell_type": "code",
   "execution_count": 77,
   "id": "feeb7b89",
   "metadata": {},
   "outputs": [
    {
     "name": "stdout",
     "output_type": "stream",
     "text": [
      "[0, 50, 15, 3, 45, 0, 90]\n",
      "찾을 정수 입력 >> 50\n",
      "저장 위치는 1번째 인덱스입니다.\n"
     ]
    }
   ],
   "source": [
    "import random\n",
    "\n",
    "def hash_w(lst):  #데이터 저장 함수\n",
    "    result = [0 for i in range(int(len(lst)*1.5))]\n",
    "    # result는 저장될 데이터(lst)보다 1.5배 긴 배열로 생성\n",
    "    # 전부 0으로 초기화\n",
    "    \n",
    "    for i in lst:    #모든 값을 반복문으로 저장\n",
    "        key = i % len(result)  \n",
    "        # 초기 키값은 해시값 [저장할 데이터] % [저장할 list의 길이]\n",
    "    \n",
    "        while result[key] != 0:    # result의 key번째에 저장된 값이 0이 아니면 반복\n",
    "            key = (key+1) % len(result)    #key값 재설정(결국 자기 자리를 찾게됨)\n",
    "\n",
    "        result[key] = i    #해당 자리에 데이터 저장\n",
    "        \n",
    "    return result    # 모든 데이터가 저장되면 result 반환\n",
    "\n",
    "\n",
    "def hash_r(lst, target):  #데이터 검색 함수\n",
    "    key = target % len(lst)\n",
    "    #key는 해시값\n",
    "\n",
    "    while lst[key] != 0:     #key번째에 0이 아니면 반복\n",
    "        if lst[key] == target:    #lst[key]의 값이 target과 일치하는지 확인\n",
    "            result =  f'저장 위치는 {key}번째 인덱스입니다.'\n",
    "            return result    #일치하면 반환\n",
    "        else:\n",
    "            key = (key+1) % len(lst)    #일치하지 않으면 key 재설정\n",
    "            \n",
    "    #while에서 벗어났다는건 lst[key] == 0 그럼 해당 데이터는 존재하지 않음\n",
    "    result = f'{target} 찾을 수 없음'     \n",
    "    return result\n",
    "\n",
    "lst = [i+random.randrange(100) for i in range(5)] # 5개씩 랜덤\n",
    "\n",
    "ch_lst = hash_w(lst) #저장하는 함수에 lst 넘겨주기\n",
    "print(ch_lst)\n",
    "try:\n",
    "    target = int(input('찾을 정수 입력 >> '))\n",
    "except ValueError as e:  #문자열 오류 예외처리\n",
    "    print('오류 발생 >> ', e)\n",
    "    print('다시 실행하세요')\n",
    "else:\n",
    "    print(hash_r(ch_lst, target)) # 검색하는 함수에 가공된 ch_lst와 찾을값(target) 넘겨주기"
   ]
  },
  {
   "cell_type": "code",
   "execution_count": 69,
   "id": "d99957ff",
   "metadata": {},
   "outputs": [
    {
     "name": "stdout",
     "output_type": "stream",
     "text": [
      "[56, 70, 37, 45, 10, 0, 0]\n",
      "찾을 정수 입력 >> 70\n"
     ]
    }
   ],
   "source": [
    "#주석 제거한 코드\n",
    "import random\n",
    "\n",
    "def hash_w(lst): \n",
    "    result = [0 for i in range(int(len(lst)*1.5))]\n",
    "    \n",
    "    for i in lst:   \n",
    "        key = i % len(result)  \n",
    "\n",
    "        while result[key] != 0: \n",
    "            key = (key+1) % len(result) \n",
    "\n",
    "        result[key] = i \n",
    "        \n",
    "    return result \n",
    "\n",
    "\n",
    "def hash_r(lst, target):  \n",
    "    key = target % len(lst)\n",
    "\n",
    "    while lst[key] != 0:     \n",
    "        if lst[key] == target:   \n",
    "            return f'저장 위치는 {key}번째 입니다.'  \n",
    "        else:\n",
    "            key = (key+1) % len(lst)   \n",
    "            \n",
    "    return f'{target} 찾을 수 없음'    \n",
    "\n",
    "\n",
    "lst = [i+random.randrange(100) for i in range(5)]\n",
    "\n",
    "ch_lst = hash_w(lst)\n",
    "print(ch_lst)\n",
    "try:\n",
    "    target = int(input('찾을 정수 입력 >> '))\n",
    "\n",
    "except ValueError as e:\n",
    "    print('오류 발생 >> ', e)\n",
    "    print('다시 실행하세요')\n",
    "\n",
    "else:\n",
    "    hash_r(ch_lst, target)"
   ]
  }
 ],
 "metadata": {
  "kernelspec": {
   "display_name": "Python 3 (ipykernel)",
   "language": "python",
   "name": "python3"
  },
  "language_info": {
   "codemirror_mode": {
    "name": "ipython",
    "version": 3
   },
   "file_extension": ".py",
   "mimetype": "text/x-python",
   "name": "python",
   "nbconvert_exporter": "python",
   "pygments_lexer": "ipython3",
   "version": "3.9.7"
  }
 },
 "nbformat": 4,
 "nbformat_minor": 5
}
