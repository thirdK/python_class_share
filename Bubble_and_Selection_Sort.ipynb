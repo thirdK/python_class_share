{
 "cells": [
  {
   "cell_type": "code",
   "execution_count": 1,
   "id": "7f322c11",
   "metadata": {},
   "outputs": [
    {
     "name": "stdout",
     "output_type": "stream",
     "text": [
      "정렬 전 >> [902, 385, 496, 425, 796, 317, 896, 416, 520, 398]\n",
      "정렬 후 >> [317, 385, 398, 416, 425, 496, 520, 796, 896, 902]\n"
     ]
    }
   ],
   "source": [
    "# 단순 교환 정렬\n",
    "# 1. 오른쪽 끝부터 순서대로 인접한 공을 오름차순 정렬한다.\n",
    "# 2. 왼쪽 끝 칸 부터 순서대로 들어갈 공을 확정시켜 나간다.\n",
    "import random\n",
    "\n",
    "def b_sort(lst):                #함수 생성\n",
    "    for i in range(len(lst)-1):   #i는 리스트 길이까지해도 되지만 마지막은 생략해도 이미 정렬이되어진 상태\n",
    "        for j in range(len(lst)-1, i, -1): #j는 역순으로 검사하기위해 len(lst)-1부터 시작\n",
    "                                           #자리가 확정된 index는 탐색범위에서 제외되도록 i까지\n",
    "            if lst[j-1] > lst[j]:          #[마지막-1] > [마지막] 값비교하고 \n",
    "                lst[j-1], lst[j] = lst[j], lst[j-1] #조건이 참이면 작은 값이 0번 index에 점점 가까워짐\n",
    "    return lst  # 반복문 끝나면 lst 반환\n",
    "\n",
    "arr = [i for i in range(1, 1001)]\n",
    "lst = random.sample(arr, k = 10)\n",
    "\n",
    "print(f'정렬 전 >> {lst}')\n",
    "print(f'정렬 후 >> {b_sort(lst)}')\n"
   ]
  },
  {
   "cell_type": "code",
   "execution_count": 2,
   "id": "057eaf24",
   "metadata": {},
   "outputs": [
    {
     "name": "stdout",
     "output_type": "stream",
     "text": [
      "정렬 전 >> [56, 15, 20, 78, 60, 29, 80, 44, 36, 90]\n",
      "정렬 후 >> [15, 20, 29, 36, 44, 56, 60, 78, 80, 90]\n"
     ]
    }
   ],
   "source": [
    "# 단순 선택 정렬\n",
    "\n",
    "import random\n",
    "\n",
    "def s_sort(lst):    #함수 생성\n",
    "    for i in range(len(lst)-1):    # i는 lst길이만큼 반복해도 되지만 마지막요소만 남았을때는 실행될 필요가 없다.\n",
    "        for j in range(i+1,len(lst)):  #j는 i+1부터시작(자리가 정해진 인덱스는 탐색범위에 안들어오도록)\n",
    "            if lst[i] > lst[j]:        #탐색범위에서 가장 작은 값이 i 인덱스에 위치해야 함\n",
    "                lst[i], lst[j] = lst[j], lst[i] #조건이 '참' 이면 위치교환\n",
    "    return lst \n",
    "\n",
    "arr = [i for i in range(1,101)]\n",
    "lst = random.sample(arr,k=10)\n",
    "\n",
    "print(f'정렬 전 >> {lst}')\n",
    "print(f'정렬 후 >> {s_sort(lst)}')"
   ]
  },
  {
   "cell_type": "code",
   "execution_count": null,
   "id": "29178bd0",
   "metadata": {},
   "outputs": [],
   "source": []
  }
 ],
 "metadata": {
  "kernelspec": {
   "display_name": "Python 3 (ipykernel)",
   "language": "python",
   "name": "python3"
  },
  "language_info": {
   "codemirror_mode": {
    "name": "ipython",
    "version": 3
   },
   "file_extension": ".py",
   "mimetype": "text/x-python",
   "name": "python",
   "nbconvert_exporter": "python",
   "pygments_lexer": "ipython3",
   "version": "3.9.7"
  }
 },
 "nbformat": 4,
 "nbformat_minor": 5
}
