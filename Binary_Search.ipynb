{
 "cells": [
  {
   "cell_type": "code",
   "execution_count": 1,
   "metadata": {},
   "outputs": [
    {
     "name": "stdout",
     "output_type": "stream",
     "text": [
      "25~99까지의 데이터\n",
      "20번 index요소와 일치\n"
     ]
    }
   ],
   "source": [
    "#이진탐색\n",
    "#데이터는 정렬이 되어있고 반으로 나눠가며 비교\n",
    "#여기서는 오름차순으로 정렬된 데이터를 사용함\n",
    "\n",
    "def b_search(lst, target):      #lst는 탐색할 데이터리스트, target은 찾을 값\n",
    "    head = 0\n",
    "    tail = len(lst)-1    \n",
    "#head와 tail은 탐색범위의 양끝의 index번호를 나타냄 \n",
    "# -> head와 tail의 이동(값의 변화)는 탐색범위의 변화\n",
    "    \n",
    "    #반복횟수를 예측하기 힘드므로 while\n",
    "    while head <= tail: \n",
    "        center = (head+tail)//2 \n",
    "        #center는 현재 head와 tail의 중앙 index를 저장한다.(head와 tail의 평균값)\n",
    "        #소수점은 필요 없으므로 몫만 구한다. (//)\n",
    "        #int((head+tail)/2)로 소수점을 날려도된다.\n",
    "        \n",
    "        if target == lst[center]:   #찾으려는 값과 lst중앙의 값이 같은지 비교\n",
    "            result = f'{center}번 index요소와 일치'\n",
    "            return result           #같으면 여기서 result 반환하고 함수 종료\n",
    "        \n",
    "        elif target > lst[center]:  #target이 크다면\n",
    "            head = center + 1       #head의 값을 조정(탐색범위의 축소)\n",
    "        else: \n",
    "            tail = center - 1       #target이 작다면 tail을 조정(탐색범위의 축소)\n",
    "            \n",
    "    result = \"찾지 못했습니다.\"        \n",
    "    return result   #탐색이 끝나도 값이 존재하지 않다면 여기서 result 반환하고 함수종료\n",
    "\n",
    "\n",
    "lst = [i for i in range(25,100)]\n",
    "print(f'{lst[0]}~{lst[-1]}까지의 데이터')\n",
    "target = int(input('찾을 정수를 입력 >> '))\n",
    "\n",
    "print(b_search(lst, target))"
   ]
  },
  {
   "cell_type": "code",
   "execution_count": null,
   "metadata": {},
   "outputs": [],
   "source": []
  }
 ],
 "metadata": {
  "interpreter": {
   "hash": "06ffcee6e633a812ef68c4fac1dbf18eb2baf7762b7f89d081dd9f0e526b463d"
  },
  "kernelspec": {
   "display_name": "Python 3.9.7 ('base')",
   "language": "python",
   "name": "python3"
  },
  "language_info": {
   "codemirror_mode": {
    "name": "ipython",
    "version": 3
   },
   "file_extension": ".py",
   "mimetype": "text/x-python",
   "name": "python",
   "nbconvert_exporter": "python",
   "pygments_lexer": "ipython3",
   "version": "3.9.7"
  },
  "orig_nbformat": 4
 },
 "nbformat": 4,
 "nbformat_minor": 2
}
