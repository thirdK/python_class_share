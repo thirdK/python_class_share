{
 "cells": [
  {
   "cell_type": "code",
   "execution_count": 75,
   "id": "53322fc0",
   "metadata": {},
   "outputs": [
    {
     "name": "stdout",
     "output_type": "stream",
     "text": [
      "정렬 전 >> [67, 14, 7, 34, 64, 36, 86, 51, 2, 44]\n",
      "정렬 후 >> [2, 7, 14, 34, 36, 44, 51, 64, 67, 86]\n"
     ]
    }
   ],
   "source": [
    "# 단순 선택 정렬\n",
    "import random\n",
    "\n",
    "def s_sort(lst):    #함수 생성\n",
    "    for i in range(len(lst)-1):    # i는 lst길이만큼 반복해도 되지만 마지막요소만 남았을때는 실행될 필요가 없다.\n",
    "        for j in range(i+1,len(lst)):  #j는 i+1부터시작(자리가 정해진 인덱스는 탐색범위에 안들어오도록)\n",
    "            if lst[i] > lst[j]:        #탐색범위에서 가장 작은 값이 i 인덱스에 위치해야 함\n",
    "                lst[i], lst[j] = lst[j], lst[i] #조건이 '참' 이면 위치교환\n",
    "    return lst \n",
    "\n",
    "arr = [i for i in range(1,101)]\n",
    "lst = random.sample(arr,k=10)\n",
    "\n",
    "print(f'정렬 전 >> {lst}')\n",
    "print(f'정렬 후 >> {s_sort(lst)}')"
   ]
  }
 ],
 "metadata": {
  "kernelspec": {
   "display_name": "Python 3 (ipykernel)",
   "language": "python",
   "name": "python3"
  },
  "language_info": {
   "codemirror_mode": {
    "name": "ipython",
    "version": 3
   },
   "file_extension": ".py",
   "mimetype": "text/x-python",
   "name": "python",
   "nbconvert_exporter": "python",
   "pygments_lexer": "ipython3",
   "version": "3.9.7"
  }
 },
 "nbformat": 4,
 "nbformat_minor": 5
}
